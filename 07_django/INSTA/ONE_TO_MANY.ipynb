{
 "cells": [
  {
   "cell_type": "markdown",
   "metadata": {},
   "source": [
    "# One To Many model\n",
    "\n",
    "## Writer\n",
    "\n",
    "| id      | name      |\n",
    "| ------- | --------- |\n",
    "| PK, INT | CharField |\n",
    "\n",
    "## Book\n",
    "\n",
    "| id      | author_id       | title     | description |\n",
    "| ------- | --------------- | --------- | ----------- |\n",
    "| PK, INT | FK, Writer, INT | CharField | TextField   |\n"
   ]
  },
  {
   "cell_type": "code",
   "execution_count": 5,
   "metadata": {},
   "outputs": [
    {
     "data": {
      "text/plain": [
       "<Writer: Writer object (1)>"
      ]
     },
     "execution_count": 5,
     "metadata": {},
     "output_type": "execute_result"
    }
   ],
   "source": [
    "Writer.objects.create(\n",
    "    name='박경리'\n",
    ")"
   ]
  },
  {
   "cell_type": "code",
   "execution_count": 13,
   "metadata": {},
   "outputs": [
    {
     "data": {
      "text/plain": [
       "<QuerySet [<Writer: Writer object (1)>]>"
      ]
     },
     "execution_count": 13,
     "metadata": {},
     "output_type": "execute_result"
    }
   ],
   "source": [
    "# 조건을 만족하는 객체 1개 return => 객체\n",
    "writer = Writer.objects.get(name='박경리')  \n",
    "\n",
    "# 조건을 만족하는 모든 객체 return => []\n",
    "writers = Writer.objects.filter(name='박경리')\n",
    "park_wirters_family = Writer.objects.filter(name__contains='박')\n",
    "\n",
    "park_wirters_family"
   ]
  },
  {
   "cell_type": "code",
   "execution_count": null,
   "metadata": {},
   "outputs": [],
   "source": [
    "Book.objects.create(\n",
    "    author=writer,\n",
    "    title='토지',\n",
    "    description='최참판 일가와 이용 일가의 가족사를 중심으로 구한말부터 일제강점기를 지나 광복까지의 내용을 다루고 있으며, 모두 5부 16권의 분량으로 구성되어 있다. 1부는 1894년 평사리에서 벌어지는 일을 중심으로 최참판 일가의 몰락을 그리고 있으며, 2부에서는 배경을 만주 용정으로 옮겨 최서희의 치부와 조준구에 대한 복수, 그리고 최서희와 두 아들을 비롯한 평사리 사람들의 귀향을 그리고 있다. 3부에서는 배경이 넓어져 만주와 일본 동경, 서울과 진주를 중심으로 이야기가 전개되며 김환(구천이)이 옥사한다. 4부에서는 김길상의 출옥과 탱화의 완성, 기화(봉순이)의 죽음, 그리고 오가다 지로와 유인실의 사랑과 갈등을 그리고 있으며, 2세대인 이 용의 아들 이홍과, 최서희와 김길상의 두 아들 최환국과 최윤국이 이야기의 전면에 서서히 등장한다. 5부에서는 제2차 세계 대전 가운데 한국인들의 고난과 기다림을 형상화하고 있으며, 주요사건은 이상현과 기화의 딸 이양현과 최윤국, 그리고 송관수의 아들 송영광의 삼각관계가 있다. 이 소설은 일본의 무조건 항복을 알리는 라디오 방송을 들은 이양현이 최서희에게 달려와 그 소식을 전하는 것으로 끝난다.'\n",
    ")"
   ]
  },
  {
   "cell_type": "code",
   "execution_count": null,
   "metadata": {},
   "outputs": [],
   "source": [
    "Book.objects.create(\n",
    "    author_id=writer.id,\n",
    "    title='불신시대',\n",
    "    description='어린 아들을 잃고 아픔에 몸부림치던 진영은, 제 이기심만 좇는 사람들 때문에 또 한 번 절망하게 된다. 종교인이나 의사, 가까운 이웃조차 눈앞의 이익에 눈이 멀어 믿음을 저버리는 세상. 이런 사회 속에서는 죽음마저 돈벌이의 도구로 이용될 뿐이다. 그러나 주인공은 눈물을 닦고 현실의 폭력에 대항하고자 한다. 교과서에도 수록된 박경리의 대표 단편소설.'\n",
    ")"
   ]
  },
  {
   "cell_type": "code",
   "execution_count": 6,
   "metadata": {},
   "outputs": [],
   "source": [
    "writer = Writer.objects.get(id=1)\n",
    "book1 = Book.objects.first()\n",
    "book2 = Book.objects.last()"
   ]
  },
  {
   "cell_type": "code",
   "execution_count": 7,
   "metadata": {},
   "outputs": [
    {
     "data": {
      "text/plain": [
       "'박경리'"
      ]
     },
     "execution_count": 7,
     "metadata": {},
     "output_type": "execute_result"
    }
   ],
   "source": [
    "writer.name"
   ]
  },
  {
   "cell_type": "code",
   "execution_count": 15,
   "metadata": {},
   "outputs": [
    {
     "data": {
      "text/plain": [
       "'박경리'"
      ]
     },
     "execution_count": 15,
     "metadata": {},
     "output_type": "execute_result"
    }
   ],
   "source": [
    "book1.author.name"
   ]
  },
  {
   "cell_type": "code",
   "execution_count": 10,
   "metadata": {},
   "outputs": [
    {
     "data": {
      "text/plain": [
       "'불신시대'"
      ]
     },
     "execution_count": 10,
     "metadata": {},
     "output_type": "execute_result"
    }
   ],
   "source": [
    "book2.title"
   ]
  },
  {
   "cell_type": "code",
   "execution_count": null,
   "metadata": {},
   "outputs": [],
   "source": [
    "\n",
    "\"\"\"\n",
    "'토지'를 너무 감명깊게 봐서\n",
    "1. 책들 전체에서 '토지' 라는 제목의 책을 찾는다.\n",
    "2. 이 책의 작가의 '이름' 을 찾는다.\n",
    "3. 작가들중에 그 이름을 가진 사람을 찾는다.\n",
    "4. 책들 전체에서 그 작가의 책을 '전부' 가져온다.\n",
    "\"\"\""
   ]
  },
  {
   "cell_type": "code",
   "execution_count": 16,
   "metadata": {},
   "outputs": [],
   "source": [
    "favorite_book = Book.objects.get(title='토지')\n",
    "\n",
    "favorite_writer_name = favorite_book.author.name"
   ]
  },
  {
   "cell_type": "code",
   "execution_count": 17,
   "metadata": {},
   "outputs": [],
   "source": [
    "favorite_writer = Writer.objects.get(name=favorite_writer_name)\n",
    "\n",
    "book_wish_list = Book.objects.filter(author=favorite_writer)"
   ]
  },
  {
   "cell_type": "code",
   "execution_count": 21,
   "metadata": {},
   "outputs": [
    {
     "data": {
      "text/plain": [
       "<QuerySet [<Book: Book object (1)>, <Book: Book object (2)>]>"
      ]
     },
     "execution_count": 21,
     "metadata": {},
     "output_type": "execute_result"
    }
   ],
   "source": [
    "Book.objects.filter(author=Book.objects.get(title='토지').author)"
   ]
  },
  {
   "cell_type": "code",
   "execution_count": 38,
   "metadata": {},
   "outputs": [
    {
     "data": {
      "text/plain": [
       "<QuerySet [<Book: Book object (1)>, <Book: Book object (2)>]>"
      ]
     },
     "execution_count": 38,
     "metadata": {},
     "output_type": "execute_result"
    }
   ],
   "source": [
    "fav_writer = Book.objects.get(title='토지').author\n",
    "\n",
    "# 책 전체중에 - 내 최애 작가님이 - 다 갖고와 => []\n",
    "Book.objects.filter(author=fav_writer)"
   ]
  },
  {
   "cell_type": "code",
   "execution_count": 41,
   "metadata": {},
   "outputs": [],
   "source": [
    "# 내 최애 작가님이 - 쓴 책 - 전부 갖고와 => []\n",
    "wishlist = fav_writer.book_set.all()"
   ]
  },
  {
   "cell_type": "code",
   "execution_count": 44,
   "metadata": {},
   "outputs": [
    {
     "name": "stdout",
     "output_type": "stream",
     "text": [
      "토지\n",
      "불신시대\n"
     ]
    }
   ],
   "source": [
    "for book in fav_writer.book_set.all():\n",
    "    print(book.title)"
   ]
  },
  {
   "cell_type": "code",
   "execution_count": null,
   "metadata": {},
   "outputs": [],
   "source": []
  },
  {
   "cell_type": "code",
   "execution_count": null,
   "metadata": {},
   "outputs": [],
   "source": []
  },
  {
   "cell_type": "code",
   "execution_count": null,
   "metadata": {},
   "outputs": [],
   "source": []
  }
 ],
 "metadata": {
  "kernelspec": {
   "display_name": "Django Shell-Plus",
   "language": "python",
   "name": "django_extensions"
  },
  "language_info": {
   "codemirror_mode": {
    "name": "ipython",
    "version": 3
   },
   "file_extension": ".py",
   "mimetype": "text/x-python",
   "name": "python",
   "nbconvert_exporter": "python",
   "pygments_lexer": "ipython3",
   "version": "3.7.3"
  }
 },
 "nbformat": 4,
 "nbformat_minor": 2
}
