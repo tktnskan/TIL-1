{
 "cells": [
  {
   "cell_type": "markdown",
   "metadata": {},
   "source": [
    "# HOW TO RESET DB\n",
    "\n",
    "\n",
    "1. 특정 App 과 관련된 모든 DB 테이블을 DROP 한다.\n",
    "\n",
    "  ```sh\n",
    "  $ python manage.py migrate [APP_NAME] zero\n",
    "  ```\n",
    "\n",
    "2. 해당 App 의 `migrations/` 안의 마이그레이션 파일을 삭제한다.\n",
    "\n",
    "   ```sh\n",
    "   $ rm [APP_NAME]/migrations/0*\n",
    "   ```\n",
    "\n",
    "3. 다시 마이그레이션 파일을 만든다. (당연히 `0001_initial.py` 만 나오는게 정상.)\n",
    "\n",
    "   ```sh\n",
    "   $ python manage.py makemigrations [APP_NAME]\n",
    "   ```\n",
    "\n",
    "4. 다시 마이그레이트!\n",
    "\n",
    "   ```sh\n",
    "   $ python manage.py migrate [APP_NAME]\n",
    "   ```"
   ]
  },
  {
   "cell_type": "markdown",
   "metadata": {},
   "source": [
    "# One To One model\n",
    "\n",
    "## User\n",
    "\n",
    "| id      | email     | password  |\n",
    "| ------- | --------- | --------- |\n",
    "| PK, INT | CharField | CharField |\n",
    "| 1 | neo@hphk.kr| 123123|\n",
    "\n",
    "## Profile\n",
    "\n",
    "| id      | u_id          | first_name | last_name |\n",
    "| ------- | ------------- | ---------- | --------- |\n",
    "| PK, INT | FK, User, INT | CharField  | CharField |\n",
    "| 1       | 1             | TaeYoung   | Yu        |\n",
    "\n"
   ]
  },
  {
   "cell_type": "code",
   "execution_count": null,
   "metadata": {},
   "outputs": [],
   "source": [
    "User.objects.create(email='neo@hphk.kr', password='123123') \n",
    "\n",
    "# 두 번째 실행 실패 => email unique Fail"
   ]
  },
  {
   "cell_type": "code",
   "execution_count": null,
   "metadata": {},
   "outputs": [],
   "source": [
    "user = User.objects.get(id=1) # user.id == 1\n",
    "\n",
    "profile = Profile()\n",
    "\n",
    "# profile.u_id = user.id\n",
    "profile.u = user\n",
    "\n",
    "profile.first_name = 'TaeYoung'\n",
    "profile.last_name = 'Yu'\n",
    "profile.save()"
   ]
  },
  {
   "cell_type": "code",
   "execution_count": null,
   "metadata": {},
   "outputs": [],
   "source": [
    "profile = Profile.objects.get(id=1)\n",
    "\n",
    "profile.u_id"
   ]
  },
  {
   "cell_type": "code",
   "execution_count": null,
   "metadata": {},
   "outputs": [],
   "source": [
    "profile.u"
   ]
  },
  {
   "cell_type": "code",
   "execution_count": null,
   "metadata": {},
   "outputs": [],
   "source": [
    "profile.u == User.objects.get(id=profile.u_id)"
   ]
  },
  {
   "cell_type": "code",
   "execution_count": null,
   "metadata": {},
   "outputs": [],
   "source": [
    "# ERROR => 1:1 실패\n",
    "Profile.objects.create(\n",
    "    u_id=user.id, # u = user \n",
    "    first_name='Virus', \n",
    "    last_name='Bad')"
   ]
  },
  {
   "cell_type": "code",
   "execution_count": 1,
   "metadata": {},
   "outputs": [
    {
     "data": {
      "text/plain": [
       "<User: User object (2)>"
      ]
     },
     "execution_count": 1,
     "metadata": {},
     "output_type": "execute_result"
    }
   ],
   "source": [
    "User.objects.create(email='kim@ssafy.com', password='123123')"
   ]
  },
  {
   "cell_type": "code",
   "execution_count": 2,
   "metadata": {},
   "outputs": [
    {
     "data": {
      "text/plain": [
       "<Profile: Profile object (2)>"
      ]
     },
     "execution_count": 2,
     "metadata": {},
     "output_type": "execute_result"
    }
   ],
   "source": [
    "new_user = User.objects.get(id=2)\n",
    "Profile.objects.create(\n",
    "    first_name='kim',\n",
    "    last_name='ssafy',\n",
    "    u = new_user,\n",
    "    u_id = new_user.id\n",
    ")"
   ]
  },
  {
   "cell_type": "code",
   "execution_count": 5,
   "metadata": {},
   "outputs": [
    {
     "data": {
      "text/plain": [
       "2"
      ]
     },
     "execution_count": 5,
     "metadata": {},
     "output_type": "execute_result"
    }
   ],
   "source": [
    "new_profile = Profile.objects.get(id=2)\n",
    "new_profile.u_id"
   ]
  }
 ],
 "metadata": {
  "celltoolbar": "Visualize",
  "kernelspec": {
   "display_name": "Django Shell-Plus",
   "language": "python",
   "name": "django_extensions"
  },
  "language_info": {
   "codemirror_mode": {
    "name": "ipython",
    "version": 3
   },
   "file_extension": ".py",
   "mimetype": "text/x-python",
   "name": "python",
   "nbconvert_exporter": "python",
   "pygments_lexer": "ipython3",
   "version": "3.7.3"
  }
 },
 "nbformat": 4,
 "nbformat_minor": 2
}
