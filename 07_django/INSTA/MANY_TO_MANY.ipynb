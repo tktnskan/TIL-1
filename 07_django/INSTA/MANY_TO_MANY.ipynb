{
 "cells": [
  {
   "cell_type": "markdown",
   "metadata": {},
   "source": [
    "# Many To Many Relation\n",
    "\n",
    "## Student\n",
    "\n",
    "| id (PK) | name      |\n",
    "| ------- | --------- |\n",
    "| INT     | CharField |\n",
    "\n",
    "## Enrolment\n",
    "\n",
    "| id (PK) | student_id (FK - Student) | lecture_id (FK - Lecture) |\n",
    "| ------- | ------------------------- | ------------------------- |\n",
    "| INT     | INT                       | INT                       |\n",
    "\n",
    "\n",
    "\n",
    "## Lecture\n",
    "\n",
    "| id(PK) | title     |\n",
    "| ------ | --------- |\n",
    "| INT    | CharField |\n",
    "\n"
   ]
  },
  {
   "cell_type": "code",
   "execution_count": 29,
   "metadata": {},
   "outputs": [
    {
     "data": {
      "text/plain": [
       "4"
      ]
     },
     "execution_count": 29,
     "metadata": {},
     "output_type": "execute_result"
    }
   ],
   "source": [
    "# Student.objects.create(name='유태영')\n",
    "# Student.objects.create(name='강동주')\n",
    "# Student.objects.create(name='김탁희')\n",
    "# Student.objects.create(name='김재석')\n",
    "Student.objects.count()"
   ]
  },
  {
   "cell_type": "code",
   "execution_count": 47,
   "metadata": {},
   "outputs": [
    {
     "data": {
      "text/plain": [
       "4"
      ]
     },
     "execution_count": 47,
     "metadata": {},
     "output_type": "execute_result"
    }
   ],
   "source": [
    "# Lecture.objects.create(title='컴퓨터 운영체제')\n",
    "# Lecture.objects.create(title='HTTP 와 네트워크')\n",
    "# Lecture.objects.create(title='DS')\n",
    "# Lecture.objects.create(title='Python')\n",
    "\n",
    "Lecture.objects.count()"
   ]
  },
  {
   "cell_type": "code",
   "execution_count": 48,
   "metadata": {},
   "outputs": [
    {
     "data": {
      "text/plain": [
       "8"
      ]
     },
     "execution_count": 48,
     "metadata": {},
     "output_type": "execute_result"
    }
   ],
   "source": [
    "# Enrolment.objects.create(student_id=13, lecture_id=2)\n",
    "# Enrolment.objects.create(student_id=14, lecture_id=2)\n",
    "# Enrolment.objects.create(student_id=14, lecture_id=3)\n",
    "# Enrolment.objects.create(student_id=15, lecture_id=3)\n",
    "# Enrolment.objects.create(student_id=16, lecture_id=2)\n",
    "# Enrolment.objects.create(student_id=16, lecture_id=3)\n",
    "# Enrolment.objects.create(student_id=16, lecture_id=4)\n",
    "# Enrolment.objects.create(student_id=16, lecture_id=5)\n",
    "Enrolment.objects.count()"
   ]
  },
  {
   "cell_type": "code",
   "execution_count": 46,
   "metadata": {},
   "outputs": [
    {
     "data": {
      "text/plain": [
       "'HTTP 와 네트워크'"
      ]
     },
     "execution_count": 46,
     "metadata": {},
     "output_type": "execute_result"
    }
   ],
   "source": [
    "student = Student.objects.get(name='김재석')\n",
    "수강신청1 = student.enrolment_set.first()\n",
    "수강신청2 = student.enrolment_set.last()\n",
    "\n",
    "수강신청1.lecture.title\n",
    "수강신청2.lecture.title"
   ]
  },
  {
   "cell_type": "code",
   "execution_count": 49,
   "metadata": {},
   "outputs": [
    {
     "data": {
      "text/plain": [
       "4"
      ]
     },
     "execution_count": 49,
     "metadata": {},
     "output_type": "execute_result"
    }
   ],
   "source": [
    "# 수업 여러개 듣는 사람 1명을 student 에 저장합니다.\n",
    "student = Student.objects.get(name='김재석')\n",
    "student.enrolment_set.count()"
   ]
  },
  {
   "cell_type": "code",
   "execution_count": 50,
   "metadata": {},
   "outputs": [
    {
     "name": "stdout",
     "output_type": "stream",
     "text": [
      "컴퓨터 운영체제\n",
      "HTTP 와 네트워크\n",
      "DS\n",
      "Python\n"
     ]
    }
   ],
   "source": [
    "# student 의 수업들 제목을 출력하는 for 문을 작성해 보세요\n",
    "for 수강신청 in student.enrolment_set.all():\n",
    "    print(수강신청.lecture.title)"
   ]
  },
  {
   "cell_type": "code",
   "execution_count": 60,
   "metadata": {},
   "outputs": [
    {
     "name": "stdout",
     "output_type": "stream",
     "text": [
      "HTTP 와 네트워크\n"
     ]
    }
   ],
   "source": [
    "# student 의 수업들 중 제목이 5 글자 넘는 수업의 제목을 출력\n",
    "for enroll in student.enrolment_set.all(): # []\n",
    "    lec_title = enroll.lecture.title\n",
    "    if len(lec_title) > 10:\n",
    "        print(lec_title)"
   ]
  },
  {
   "cell_type": "code",
   "execution_count": null,
   "metadata": {},
   "outputs": [],
   "source": [
    "# lecture.students => 수업 듣는 모든 학생들\n",
    "# student.lectures => 학생 듣는 모든 수업들"
   ]
  },
  {
   "cell_type": "code",
   "execution_count": 29,
   "metadata": {},
   "outputs": [
    {
     "data": {
      "text/plain": [
       "<QuerySet [<Client: Client object (3)>, <Client: Client object (5)>]>"
      ]
     },
     "execution_count": 29,
     "metadata": {},
     "output_type": "execute_result"
    }
   ],
   "source": [
    "# Hotel.dummy(1)\n",
    "new_hotel = Hotel.objects.last()\n",
    "\n",
    "new_hotel.clients.add(\n",
    "    Client.objects.get(id=1),\n",
    "    Client.objects.get(id=3),\n",
    "    Client.objects.get(id=5),\n",
    "    Client.objects.get(id=7)\n",
    ")\n",
    "\n",
    "new_hotel.clients.filter(name__contains='h')"
   ]
  },
  {
   "cell_type": "code",
   "execution_count": 2,
   "metadata": {},
   "outputs": [],
   "source": [
    "# Client.dummy(1)\n",
    "client = Client.objects.get(id=3)\n",
    "\n",
    "# client.hotel_set.add(\n",
    "#     Hotel.objects.get(id=2),\n",
    "#     Hotel.objects.get(id=4),\n",
    "#     Hotel.objects.get(id=6),\n",
    "# )"
   ]
  },
  {
   "cell_type": "code",
   "execution_count": 6,
   "metadata": {},
   "outputs": [
    {
     "data": {
      "text/plain": [
       "<QuerySet [{'name': 'Johnson, Cruz and Gardner'}, {'name': 'Lee-Mckinney'}, {'name': 'Hopkins, Hernandez and Kim'}, {'name': 'Page Group'}]>"
      ]
     },
     "execution_count": 6,
     "metadata": {},
     "output_type": "execute_result"
    }
   ],
   "source": [
    "client.hotels.all().values('name')"
   ]
  },
  {
   "cell_type": "code",
   "execution_count": 8,
   "metadata": {},
   "outputs": [
    {
     "data": {
      "text/plain": [
       "True"
      ]
     },
     "execution_count": 8,
     "metadata": {},
     "output_type": "execute_result"
    }
   ],
   "source": [
    "client.hotels.all().exists()"
   ]
  },
  {
   "cell_type": "code",
   "execution_count": null,
   "metadata": {},
   "outputs": [],
   "source": []
  },
  {
   "cell_type": "code",
   "execution_count": null,
   "metadata": {},
   "outputs": [],
   "source": []
  },
  {
   "cell_type": "code",
   "execution_count": null,
   "metadata": {},
   "outputs": [],
   "source": []
  }
 ],
 "metadata": {
  "kernelspec": {
   "display_name": "Django Shell-Plus",
   "language": "python",
   "name": "django_extensions"
  },
  "language_info": {
   "codemirror_mode": {
    "name": "ipython",
    "version": 3
   },
   "file_extension": ".py",
   "mimetype": "text/x-python",
   "name": "python",
   "nbconvert_exporter": "python",
   "pygments_lexer": "ipython3",
   "version": "3.7.3"
  }
 },
 "nbformat": 4,
 "nbformat_minor": 2
}
